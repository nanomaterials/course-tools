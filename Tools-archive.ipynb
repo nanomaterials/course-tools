{
 "cells": [
  {
   "cell_type": "markdown",
   "metadata": {},
   "source": [
    "В данном файле представлены не используемые в настойщий момент инструменты для работы с курсом \"Наноматериалы\"."
   ]
  },
  {
   "cell_type": "markdown",
   "metadata": {},
   "source": [
    "# Генерация md-файла с перечислением видео"
   ]
  },
  {
   "cell_type": "code",
   "execution_count": null,
   "metadata": {},
   "outputs": [],
   "source": [
    "md_first_lines = '''\n",
    "# Видеотека\n",
    "\n",
    "Данный файл содержит подборку из всех видеофрагментов\n",
    "курса \"Наноматериалы\". Этот файл более удобен, если вы\n",
    "открыли его на GitHub. Однако разметка Markdown не позволяет\n",
    "встраивать видео. Каждое изображение является ссылкой на \n",
    "видеоролик. Если вы открыли курс на компьютере,\n",
    "советуем воспользоваться [html-файлом](Videos.html).\n",
    "Это позволит воспроизводить все видео на одной странице.\n",
    "\n",
    "Приведенные видеофрагменты не являются обязательными\n",
    "к просмотру, но позволяют увидеть рассматриваемые проблемы\n",
    "с позиций других исследователей. Некоторые видеоролики\n",
    "полезны как примеры лабораторных практик по синтезу\n",
    "и диагностике различных форм наноматериалов.\\n\\n'''\n",
    "\n",
    "\n",
    "page = ''\n",
    "\n",
    "for ipynb_path in sorted(chapters().keys()):\n",
    "    with open(ipynb_path) as f:\n",
    "        head = '# {} \\n'.format(chapters()[ipynb_path])\n",
    "        page += head\n",
    "        data = json.load(f)\n",
    "        for cell in data['cells']:\n",
    "            if (cell['cell_type'] == 'code') & ('YouTubeVideo' in ''.join(cell['source'])):\n",
    "                d = \"\".join(cell['source'])\n",
    "                d = d.replace('\\n', ' ')\n",
    "                try:\n",
    "                    d = d[3:d[d.index(\"'''\")+3:].index(\"'''\")+3]\n",
    "                    d = d.lstrip()\n",
    "                except ValueError:\n",
    "                    d = '**У этого видео пока нет описания.**'\n",
    "                for line in cell['source']:\n",
    "                    if \"YouTubeVideo('\" in line.strip():\n",
    "                        short_link = line[len(\"YouTubeVideo('\"):-len(\")'\")]\n",
    "                image_url = 'https://img.youtube.com/vi/{}/0.jpg'.format(short_link)\n",
    "                movie_url = 'https://www.youtube.com/watch?v={}'.format(short_link)\n",
    "                image_block = '[![]({0})]({1})\\n'.format(image_url, movie_url)\n",
    "                movie_with_description = '{0}\\n\\n {1}\\n\\n ---- \\n'.format(d, image_block)\n",
    "                page += movie_with_description\n",
    "\n",
    "page = md_first_lines+page\n",
    "#display(Markdown(page))\n",
    "\n",
    "with open('Videos.md', 'w') as f:\n",
    "    f.write(page)\n",
    "    f.close()"
   ]
  }
 ],
 "metadata": {
  "kernelspec": {
   "display_name": "Python 3",
   "language": "python",
   "name": "python3"
  },
  "language_info": {
   "codemirror_mode": {
    "name": "ipython",
    "version": 3
   },
   "file_extension": ".py",
   "mimetype": "text/x-python",
   "name": "python",
   "nbconvert_exporter": "python",
   "pygments_lexer": "ipython3",
   "version": "3.5.2"
  }
 },
 "nbformat": 4,
 "nbformat_minor": 2
}
