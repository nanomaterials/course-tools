{
 "cells": [
  {
   "cell_type": "markdown",
   "metadata": {},
   "source": [
    "Что необходимо сделать:\n",
    "- Содержание должно автоматически собираться для READ.me файла \n",
    "- Для оценки структуры курса и генерации элементов - ячейка с считыванием всех имеющихся блоков, в которых source для Markdown содержит знаки решетки. Это автоматически отправлять в Syllabus\n",
    "- Блоки видео должны позволять создавать общий файл - находить по характерному слову (YouTube) - на основной странице делать аналогично \n",
    "- Сделать взаимодополняющимися разделы \"Литература\" - Переносить из файла Literature.md в соответствующие разделы и обратно"
   ]
  },
  {
   "cell_type": "code",
   "execution_count": 49,
   "metadata": {},
   "outputs": [],
   "source": [
    "import os\n",
    "import json\n",
    "os.chdir('../course') # Все действия осуществляются из директории курса"
   ]
  },
  {
   "cell_type": "markdown",
   "metadata": {},
   "source": [
    "# Определение путей всех имеющихся в курсе ipynb-файлов"
   ]
  },
  {
   "cell_type": "code",
   "execution_count": 67,
   "metadata": {},
   "outputs": [],
   "source": [
    "ipynb_paths = []\n",
    "\n",
    "for dirname, dirnames, filenames in os.walk(os.getcwd()):\n",
    "    for filename in filenames:\n",
    "        if filename.endswith('.ipynb') & (not filename.endswith('-checkpoint.ipynb')):\n",
    "            ipynb_paths.append(os.path.join(dirname, filename))"
   ]
  },
  {
   "cell_type": "markdown",
   "metadata": {},
   "source": [
    "# Содержание в READ.me файле"
   ]
  },
  {
   "cell_type": "code",
   "execution_count": 65,
   "metadata": {},
   "outputs": [
    {
     "name": "stdout",
     "output_type": "stream",
     "text": [
      "0. [Вступительное занятие](01 - Nanoscale/Lecture.ipynb)\n",
      "1. [ссмотрение метода молекулярных орбиталей подготавливает нас к изучению модели желе для металлических кластеров, к задачам фотокатализа миниреализации органических соединений и позволяет дать строгое описание такие одномерных наноматериалов как одностенные углеродные нанотрубки.](02 - From atoms to nanomaterals/Lecture and lab.ipynb)\n",
      "2. [Комплексные соединения](03 - Clusters/Lecture.ipynb)\n",
      "3. [Конспект лекции](04 - Metal NPs/Lecture.ipynb)\n",
      "4. ['Советский фильм о механизмах люминесценции](05 - Semiconductor NPs/Lecture.ipynb)\n",
      "5. [Конспект лекции](06 - Metaloxide NPs/Lecture.ipynb)\n",
      "6. [Конспект лекции](07 - Common NPs/Lecture.ipynb)\n",
      "7. [Конспект лекции](08 - 1D Nanomaterials/Lecture.ipynb)\n",
      "8. [Конспект лекции](09 - 2D Nanomaterials/Lecture.ipynb)\n",
      "9. [Спектроскопия импеданса](10 - 3D Nanomaterials/Impedance -Lecture and Lab.ipynb)\n",
      "10. [Конспект лекции](10 - 3D Nanomaterials/Nanometals.ipynb)\n",
      "11. [Конспект лекции](10 - 3D Nanomaterials/Photonic crystals.ipynb)\n",
      "12. ['Фильм 1987 г](10 - 3D Nanomaterials/Self-organization.ipynb)\n"
     ]
    }
   ],
   "source": [
    "for i, ipynb_path in enumerate(sorted(ipynb_paths)):\n",
    "    with open(ipynb_path) as f:\n",
    "        data = json.load(f)\n",
    "        name = data['cells'][0]['source'][0]\n",
    "        markdown_path = os.path.join(os.path.basename(os.path.dirname(ipynb_path)), os.path.basename(ipynb_path))\n",
    "        print('{0}. [{1}]({2})'.format(i, name[2:].strip(), markdown_path))"
   ]
  },
  {
   "cell_type": "markdown",
   "metadata": {},
   "source": [
    "# Полная структура курса"
   ]
  },
  {
   "cell_type": "code",
   "execution_count": null,
   "metadata": {},
   "outputs": [],
   "source": [
    "# Рассматриваем только для markdown cells"
   ]
  },
  {
   "cell_type": "markdown",
   "metadata": {},
   "source": [
    "# Обработка страницы с видео"
   ]
  },
  {
   "cell_type": "code",
   "execution_count": null,
   "metadata": {},
   "outputs": [],
   "source": []
  },
  {
   "cell_type": "code",
   "execution_count": null,
   "metadata": {},
   "outputs": [],
   "source": []
  },
  {
   "cell_type": "code",
   "execution_count": null,
   "metadata": {},
   "outputs": [],
   "source": []
  }
 ],
 "metadata": {
  "kernelspec": {
   "display_name": "Python 3",
   "language": "python",
   "name": "python3"
  },
  "language_info": {
   "codemirror_mode": {
    "name": "ipython",
    "version": 3
   },
   "file_extension": ".py",
   "mimetype": "text/x-python",
   "name": "python",
   "nbconvert_exporter": "python",
   "pygments_lexer": "ipython3",
   "version": "3.5.2"
  }
 },
 "nbformat": 4,
 "nbformat_minor": 2
}
