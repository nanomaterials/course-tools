{
 "cells": [
  {
   "cell_type": "markdown",
   "metadata": {},
   "source": [
    "План работы:\n",
    "- Блоки видео должны позволять создавать общий файл - находить по характерному слову (YouTube) - на основной странице делать аналогично \n",
    "- Для оценки структуры курса и генерации элементов - ячейка с считыванием всех имеющихся блоков, в которых source для Markdown содержит знаки решетки. Это автоматически отправлять в Syllabus\n",
    "- Сделать взаимодополняющимися разделы \"Литература\" - Переносить из файла Literature.md в соответствующие разделы и обратно"
   ]
  },
  {
   "cell_type": "code",
   "execution_count": 60,
   "metadata": {},
   "outputs": [],
   "source": [
    "import os\n",
    "import json\n",
    "os.chdir('../course') # Все действия осуществляются из директории курса"
   ]
  },
  {
   "cell_type": "markdown",
   "metadata": {},
   "source": [
    "# Определение путей всех имеющихся в курсе ipynb-файлов"
   ]
  },
  {
   "cell_type": "code",
   "execution_count": 61,
   "metadata": {},
   "outputs": [],
   "source": [
    "ipynb_paths = []\n",
    "\n",
    "for dirname, dirnames, filenames in os.walk(os.getcwd()):\n",
    "    for filename in filenames:\n",
    "        if filename.endswith('.ipynb') & (not filename.endswith('-checkpoint.ipynb')):\n",
    "            ipynb_paths.append(os.path.join(dirname, filename))"
   ]
  },
  {
   "cell_type": "markdown",
   "metadata": {},
   "source": [
    "# Актуальное содержание в READ.me файле"
   ]
  },
  {
   "cell_type": "code",
   "execution_count": 62,
   "metadata": {
    "scrolled": false
   },
   "outputs": [],
   "source": [
    "chapters = []\n",
    "\n",
    "for i, ipynb_path in enumerate(sorted(ipynb_paths)):\n",
    "    with open(ipynb_path) as f:\n",
    "        data = json.load(f)\n",
    "        name = data['cells'][0]['source'][0]  # Заголовок файла это всегда первая ячейка\n",
    "        markdown_path = os.path.join(os.path.basename(os.path.dirname(ipynb_path)), os.path.basename(ipynb_path))\n",
    "        # срез так как название начинается с решетки и пробела\n",
    "        chapters.append('{0}. [{1}]({2})'.format(i+1, name[2:].strip(), markdown_path))  \n",
    "        \n",
    "with open('README.md') as f:\n",
    "    blocks = f.read().split('#')\n",
    "    for i, block in enumerate(blocks):\n",
    "        if block.startswith(' Содержание курса'):\n",
    "            blocks[i] = ' Содержание курса\\n\\n' + '\\n'.join(chapters) + '\\n\\n'\n",
    "    f.close()\n",
    "\n",
    "with open('README.md', 'w') as f:           \n",
    "    f.write(\"#\".join(blocks)) \n",
    "    f.close()"
   ]
  },
  {
   "cell_type": "markdown",
   "metadata": {},
   "source": [
    "# Полная структура курса"
   ]
  },
  {
   "cell_type": "code",
   "execution_count": null,
   "metadata": {},
   "outputs": [],
   "source": [
    "# Рассматриваем только для markdown cells"
   ]
  },
  {
   "cell_type": "markdown",
   "metadata": {},
   "source": [
    "# Обработка страницы с видео"
   ]
  },
  {
   "cell_type": "code",
   "execution_count": null,
   "metadata": {},
   "outputs": [],
   "source": []
  },
  {
   "cell_type": "code",
   "execution_count": null,
   "metadata": {},
   "outputs": [],
   "source": []
  },
  {
   "cell_type": "code",
   "execution_count": null,
   "metadata": {},
   "outputs": [],
   "source": []
  }
 ],
 "metadata": {
  "kernelspec": {
   "display_name": "Python 3",
   "language": "python",
   "name": "python3"
  },
  "language_info": {
   "codemirror_mode": {
    "name": "ipython",
    "version": 3
   },
   "file_extension": ".py",
   "mimetype": "text/x-python",
   "name": "python",
   "nbconvert_exporter": "python",
   "pygments_lexer": "ipython3",
   "version": "3.5.2"
  }
 },
 "nbformat": 4,
 "nbformat_minor": 2
}
