{
 "cells": [
  {
   "cell_type": "markdown",
   "metadata": {},
   "source": [
    "# План работы:\n",
    "- Кроме Videos.md должен быть файл Videos.html - а лучше ipynb - тогда будет встраивание в обоих формах видео, описание в предыдущей markdown-ячейке.\n",
    "- Для оценки структуры курса и генерации элементов - ячейка с считыванием всех имеющихся блоков, в которых source для Markdown содержит знаки решетки. Это автоматически отправлять в Syllabus\n",
    "- Сделать взаимодополняющимися разделы \"Литература\" - Переносить из файла Literature.md в соответствующие разделы и обратно"
   ]
  },
  {
   "cell_type": "code",
   "execution_count": 173,
   "metadata": {},
   "outputs": [],
   "source": [
    "import os\n",
    "import json\n",
    "os.chdir('../course') # Все действия осуществляются из директории курса\n",
    "\n",
    "from IPython.display import display, Markdown, Latex"
   ]
  },
  {
   "cell_type": "markdown",
   "metadata": {},
   "source": [
    "# Определение путей всех имеющихся в курсе ipynb-файлов"
   ]
  },
  {
   "cell_type": "code",
   "execution_count": 174,
   "metadata": {},
   "outputs": [],
   "source": [
    "ipynb_paths = []\n",
    "\n",
    "for dirname, dirnames, filenames in os.walk(os.getcwd()):\n",
    "    for filename in filenames:\n",
    "        if filename.endswith('.ipynb') & (not filename.endswith('-checkpoint.ipynb')):\n",
    "            ipynb_paths.append(os.path.join(dirname, filename))"
   ]
  },
  {
   "cell_type": "markdown",
   "metadata": {},
   "source": [
    "# Актуальное содержание в READ.me файле"
   ]
  },
  {
   "cell_type": "code",
   "execution_count": 175,
   "metadata": {
    "scrolled": false
   },
   "outputs": [],
   "source": [
    "def chapters():\n",
    "    chs = dict()\n",
    "    for i, ipynb_path in enumerate(sorted(ipynb_paths)):\n",
    "        with open(ipynb_path) as f:\n",
    "            data = json.load(f)\n",
    "            name = data['cells'][0]['source'][0]  # Заголовок файла это всегда первая ячейка\n",
    "            markdown_path = os.path.join(os.path.basename(os.path.dirname(ipynb_path)), os.path.basename(ipynb_path))\n",
    "            # срез так как название начинается с решетки и пробела\n",
    "            chs[ipynb_path] = '{0}. [{1}]({2})'.format(i+1, name[2:].strip(), markdown_path)\n",
    "    return chs\n",
    "            \n",
    "with open('README.md') as f:\n",
    "    blocks = f.read().split('#')\n",
    "    for i, block in enumerate(blocks):\n",
    "        if block.startswith(' Содержание курса'):\n",
    "            blocks[i] = ' Содержание курса\\n\\n' + '\\n'.join([chapters()[key] for key in sorted(chapters())]) + '\\n\\n'\n",
    "    f.close()\n",
    "\n",
    "with open('README.md', 'w') as f:           \n",
    "    f.write(\"#\".join(blocks)) \n",
    "    f.close()\n",
    "\n",
    "# print('Ниже идет текущий вид сгенерированного файла READ.me')\n",
    "# with open('README.md') as f:\n",
    "#     display(Markdown(f.read()))\n",
    "#     f.close()"
   ]
  },
  {
   "cell_type": "markdown",
   "metadata": {},
   "source": [
    "# Полная структура курса"
   ]
  },
  {
   "cell_type": "code",
   "execution_count": 176,
   "metadata": {},
   "outputs": [],
   "source": [
    "# Рассматриваем только для markdown cells"
   ]
  },
  {
   "cell_type": "markdown",
   "metadata": {},
   "source": [
    "# Генерация страницы с полным списком видео\n",
    "\n",
    "Для удобства просмотра видео на досуге сделаем общую страницу, в которой видеофрагменты из всех Jupyter-блокнотов будут собираться в общий файл [Videos.md]()."
   ]
  },
  {
   "cell_type": "code",
   "execution_count": 177,
   "metadata": {
    "scrolled": false
   },
   "outputs": [],
   "source": [
    "md_first_lines = '''\n",
    "# Видеотека\n",
    "\n",
    "Данный файл содержит подборку из всех видеофрагментов\n",
    "курса \"Наноматериалы\". Этот файл более удобен, если вы\n",
    "открыли его на GitHub. Однако разметка Markdown не позволяет\n",
    "встраивать видео. Каждое изображение является ссылкой на \n",
    "видеоролик. Если вы открыли курс на компьютере,\n",
    "советуем воспользоваться [html-файлом](Videos.html).\n",
    "Это позволит воспроизводить все видео на одной странице.\n",
    "\n",
    "Приведенные видеофрагменты не являются обязательными\n",
    "к просмотру, но позволяют увидеть рассматриваемые проблемы\n",
    "с позиций других исследователей. Некоторые видеоролики\n",
    "полезны как примеры лабораторных практик по синтезу\n",
    "и диагностике различных форм наноматериалов.\\n\\n'''\n",
    "\n",
    "\n",
    "page = ''\n",
    "\n",
    "for ipynb_path in sorted(chapters().keys()):\n",
    "    with open(ipynb_path) as f:\n",
    "        head = '# {} \\n'.format(chapters()[ipynb_path])\n",
    "        page += head\n",
    "        data = json.load(f)\n",
    "        for cell in data['cells']:\n",
    "            if (cell['cell_type'] == 'code') & ('YouTubeVideo' in ''.join(cell['source'])):\n",
    "                d = \"\".join(cell['source'])\n",
    "                d = d.replace('\\n', ' ')\n",
    "                try:\n",
    "                    d = d[3:d[d.index(\"'''\")+3:].index(\"'''\")+3]\n",
    "                    d = d.lstrip()\n",
    "                except ValueError:\n",
    "                    d = '**У этого видео пока нет описания.**'\n",
    "                for line in cell['source']:\n",
    "                    if \"YouTubeVideo('\" in line.strip():\n",
    "                        short_link = line[len(\"YouTubeVideo('\"):-len(\")'\")]\n",
    "                image_url = 'https://img.youtube.com/vi/{}/0.jpg'.format(short_link)\n",
    "                movie_url = 'https://www.youtube.com/watch?v={}'.format(short_link)\n",
    "                image_block = '[![]({0})]({1})\\n'.format(image_url, movie_url)\n",
    "                movie_with_description = '{0}\\n\\n {1}\\n\\n ---- \\n'.format(d, image_block)\n",
    "                page += movie_with_description\n",
    "\n",
    "page = md_first_lines+page\n",
    "#display(Markdown(page))\n",
    "\n",
    "with open('Videos.md', 'w') as f:\n",
    "    f.write(page)\n",
    "    f.close()"
   ]
  },
  {
   "cell_type": "markdown",
   "metadata": {},
   "source": [
    "# Общий объем текстовой части"
   ]
  },
  {
   "cell_type": "code",
   "execution_count": 197,
   "metadata": {},
   "outputs": [
    {
     "name": "stdout",
     "output_type": "stream",
     "text": [
      "Общий объем непрограммного текста - 195073 символов, что соответствует примерно 108 листов А4.\n"
     ]
    }
   ],
   "source": [
    "total_symbols = 0\n",
    "for ipynb_path in sorted(chapters().keys()):\n",
    "    with open(ipynb_path) as f:\n",
    "        data = json.load(f)\n",
    "        total_symbols += sum([len(''.join(cell['source'])) for cell in data['cells'] if cell['cell_type'] == 'markdown'])\n",
    "\n",
    "print('Общий объем непрограммного текста - {} символов, что соответствует примерно {} листов А4.'.format(total_symbols, total_symbols//1800))"
   ]
  },
  {
   "cell_type": "code",
   "execution_count": null,
   "metadata": {},
   "outputs": [],
   "source": []
  }
 ],
 "metadata": {
  "kernelspec": {
   "display_name": "Python 3",
   "language": "python",
   "name": "python3"
  },
  "language_info": {
   "codemirror_mode": {
    "name": "ipython",
    "version": 3
   },
   "file_extension": ".py",
   "mimetype": "text/x-python",
   "name": "python",
   "nbconvert_exporter": "python",
   "pygments_lexer": "ipython3",
   "version": "3.5.2"
  }
 },
 "nbformat": 4,
 "nbformat_minor": 2
}
